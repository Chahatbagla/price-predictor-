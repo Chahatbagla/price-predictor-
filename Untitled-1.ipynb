{
 "cells": [
  {
   "cell_type": "code",
   "execution_count": 4,
   "metadata": {},
   "outputs": [
    {
     "data": {
      "text/html": [
       "<div>\n",
       "<style scoped>\n",
       "    .dataframe tbody tr th:only-of-type {\n",
       "        vertical-align: middle;\n",
       "    }\n",
       "\n",
       "    .dataframe tbody tr th {\n",
       "        vertical-align: top;\n",
       "    }\n",
       "\n",
       "    .dataframe thead th {\n",
       "        text-align: right;\n",
       "    }\n",
       "</style>\n",
       "<table border=\"1\" class=\"dataframe\">\n",
       "  <thead>\n",
       "    <tr style=\"text-align: right;\">\n",
       "      <th></th>\n",
       "      <th>discount_price</th>\n",
       "      <th>actual_price</th>\n",
       "    </tr>\n",
       "  </thead>\n",
       "  <tbody>\n",
       "    <tr>\n",
       "      <th>0</th>\n",
       "      <td>10999.0</td>\n",
       "      <td>18999.0</td>\n",
       "    </tr>\n",
       "    <tr>\n",
       "      <th>1</th>\n",
       "      <td>18999.0</td>\n",
       "      <td>19999.0</td>\n",
       "    </tr>\n",
       "    <tr>\n",
       "      <th>2</th>\n",
       "      <td>1999.0</td>\n",
       "      <td>2299.0</td>\n",
       "    </tr>\n",
       "    <tr>\n",
       "      <th>3</th>\n",
       "      <td>15999.0</td>\n",
       "      <td>24999.0</td>\n",
       "    </tr>\n",
       "    <tr>\n",
       "      <th>4</th>\n",
       "      <td>18999.0</td>\n",
       "      <td>19999.0</td>\n",
       "    </tr>\n",
       "  </tbody>\n",
       "</table>\n",
       "</div>"
      ],
      "text/plain": [
       "   discount_price  actual_price\n",
       "0         10999.0       18999.0\n",
       "1         18999.0       19999.0\n",
       "2          1999.0        2299.0\n",
       "3         15999.0       24999.0\n",
       "4         18999.0       19999.0"
      ]
     },
     "execution_count": 4,
     "metadata": {},
     "output_type": "execute_result"
    }
   ],
   "source": [
    "import pandas as pd\n",
    "import re\n",
    "\n",
    "# Load your dataset\n",
    "df = pd.read_csv('electronics_product.csv')\n",
    "\n",
    "# Function to clean price columns\n",
    "def clean_price(price):\n",
    "    \"\"\"\n",
    "    This function takes a price string, removes non-numeric characters,\n",
    "    and converts it into a float value for further processing.\n",
    "    \"\"\"\n",
    "    # Convert price to string before applying regex\n",
    "    price = str(price)\n",
    "    clean_price = re.sub(r'[^\\d.]', '', price)  # Remove any non-numeric characters\n",
    "    return float(clean_price) if clean_price else None\n",
    "\n",
    "# Apply the function to both price columns\n",
    "df['discount_price'] = df['discount_price'].apply(clean_price)\n",
    "df['actual_price'] = df['actual_price'].apply(clean_price)\n",
    "\n",
    "# Check for successful conversion\n",
    "df[['discount_price', 'actual_price']].head()"
   ]
  },
  {
   "cell_type": "code",
   "execution_count": 5,
   "metadata": {},
   "outputs": [
    {
     "data": {
      "text/plain": [
       "Unnamed: 0          0\n",
       "name                0\n",
       "main_category       0\n",
       "sub_category        0\n",
       "image               0\n",
       "link                0\n",
       "ratings            95\n",
       "no_of_ratings      95\n",
       "discount_price    484\n",
       "actual_price       70\n",
       "dtype: int64"
      ]
     },
     "execution_count": 5,
     "metadata": {},
     "output_type": "execute_result"
    }
   ],
   "source": [
    "# Check for missing values\n",
    "df.isnull().sum()\n"
   ]
  },
  {
   "cell_type": "code",
   "execution_count": 6,
   "metadata": {},
   "outputs": [],
   "source": [
    "\n",
    "df = df.drop('Unnamed: 0', axis=1)"
   ]
  },
  {
   "cell_type": "code",
   "execution_count": 7,
   "metadata": {},
   "outputs": [
    {
     "name": "stdout",
     "output_type": "stream",
     "text": [
      "name              0\n",
      "main_category     0\n",
      "sub_category      0\n",
      "image             0\n",
      "link              0\n",
      "ratings           0\n",
      "no_of_ratings     0\n",
      "discount_price    0\n",
      "actual_price      0\n",
      "dtype: int64\n"
     ]
    },
    {
     "data": {
      "text/plain": [
       "(9600, 9)"
      ]
     },
     "execution_count": 7,
     "metadata": {},
     "output_type": "execute_result"
    }
   ],
   "source": [
    "# Create a copy of the DataFrame to avoid SettingWithCopyWarning\n",
    "df_cleaned = df.copy()\n",
    "\n",
    "# Fill missing ratings and no_of_ratings with 0\n",
    "df_cleaned['ratings'] = df_cleaned['ratings'].fillna(0)\n",
    "df_cleaned['no_of_ratings'] = df_cleaned['no_of_ratings'].fillna(0)\n",
    "\n",
    "# Fill missing discount prices with the mean discount price\n",
    "df_cleaned['discount_price'] = df_cleaned['discount_price'].fillna(df_cleaned['discount_price'].mean())\n",
    "\n",
    "# Fill missing actual prices with the mean actual price\n",
    "df_cleaned['actual_price'] = df_cleaned['actual_price'].fillna(df_cleaned['actual_price'].mean())\n",
    "\n",
    "# Check if any missing values remain\n",
    "missing_values = df_cleaned.isnull().sum()\n",
    "print(missing_values)\n",
    "df_cleaned.shape"
   ]
  },
  {
   "cell_type": "code",
   "execution_count": 9,
   "metadata": {},
   "outputs": [
    {
     "name": "stdout",
     "output_type": "stream",
     "text": [
      "       discount_price   actual_price\n",
      "count     9600.000000    9600.000000\n",
      "mean      2976.275592    5009.698254\n",
      "std       8639.082346   12164.404252\n",
      "min         10.000000      20.000000\n",
      "25%        299.000000     849.000000\n",
      "50%        620.500000    1499.000000\n",
      "75%       1895.500000    3499.000000\n",
      "max     134999.000000  161999.000000\n",
      "name               object\n",
      "main_category      object\n",
      "sub_category       object\n",
      "image              object\n",
      "link               object\n",
      "ratings            object\n",
      "no_of_ratings      object\n",
      "discount_price    float64\n",
      "actual_price      float64\n",
      "dtype: object\n",
      "ratings            24\n",
      "no_of_ratings    5012\n",
      "dtype: int64\n"
     ]
    }
   ],
   "source": [
    "\n",
    "df_cleaned = df_cleaned.drop_duplicates()\n",
    "df_cleaned.shape\n",
    "\n",
    "df_cleaned['name'] = df_cleaned['name'].str.lower()\n",
    "df_cleaned.shape\n",
    "\n",
    "print(df_cleaned[['discount_price', 'actual_price']].describe())\n",
    "\n",
    "print(df_cleaned.dtypes)\n",
    "\n",
    "df_cleaned['ratings'] = pd.to_numeric(df_cleaned['ratings'], errors='coerce')\n",
    "df_cleaned['no_of_ratings'] = pd.to_numeric(df_cleaned['no_of_ratings'], errors='coerce')\n",
    "\n",
    "print(df_cleaned[['ratings', 'no_of_ratings']].isnull().sum())\n"
   ]
  },
  {
   "cell_type": "code",
   "execution_count": 10,
   "metadata": {},
   "outputs": [
    {
     "name": "stdout",
     "output_type": "stream",
     "text": [
      "ratings          0\n",
      "no_of_ratings    0\n",
      "dtype: int64\n"
     ]
    },
    {
     "data": {
      "text/plain": [
       "(9600, 9)"
      ]
     },
     "execution_count": 10,
     "metadata": {},
     "output_type": "execute_result"
    }
   ],
   "source": [
    "from sklearn.impute import SimpleImputer\n",
    "\n",
    "imputer = SimpleImputer(strategy='mean')\n",
    "df_cleaned[['ratings', 'no_of_ratings']] = imputer.fit_transform(df_cleaned[['ratings', 'no_of_ratings']])\n",
    "\n",
    "print(df_cleaned[['ratings', 'no_of_ratings']].isnull().sum())\n",
    "\n",
    "df_cleaned.shape"
   ]
  },
  {
   "cell_type": "code",
   "execution_count": 11,
   "metadata": {},
   "outputs": [
    {
     "name": "stdout",
     "output_type": "stream",
     "text": [
      "(9600, 14)\n"
     ]
    },
    {
     "data": {
      "text/plain": [
       "(9600, 14)"
      ]
     },
     "execution_count": 11,
     "metadata": {},
     "output_type": "execute_result"
    }
   ],
   "source": [
    "\n",
    "import numpy as np\n",
    "\n",
    "# Create new features in the cleaned DataFrame\n",
    "df_cleaned['name_length'] = df_cleaned['name'].str.len()\n",
    "df_cleaned['price_difference'] = df_cleaned['actual_price'] - df_cleaned['discount_price']\n",
    "df_cleaned['rating_ratio'] = df_cleaned['ratings'] / df_cleaned['no_of_ratings']\n",
    "df_cleaned['log_actual_price'] = np.log1p(df_cleaned['actual_price'])\n",
    "df_cleaned['discount_percentage'] = (df_cleaned['price_difference'] / df_cleaned['actual_price']) * 100\n",
    "\n",
    "# Check the shape and columns of the updated DataFrame\n",
    "print(df_cleaned.shape)\n",
    "\n",
    "df_cleaned.shape\n"
   ]
  },
  {
   "cell_type": "code",
   "execution_count": 12,
   "metadata": {},
   "outputs": [
    {
     "name": "stdout",
     "output_type": "stream",
     "text": [
      "Negative discount_price rows:\n",
      "Empty DataFrame\n",
      "Columns: [name, main_category, sub_category, image, link, ratings, no_of_ratings, discount_price, actual_price, name_length, price_difference, rating_ratio, log_actual_price, discount_percentage]\n",
      "Index: []\n",
      "Negative actual_price rows:\n",
      "Empty DataFrame\n",
      "Columns: [name, main_category, sub_category, image, link, ratings, no_of_ratings, discount_price, actual_price, name_length, price_difference, rating_ratio, log_actual_price, discount_percentage]\n",
      "Index: []\n",
      "Non-numeric values found in column 'rating_ratio':\n",
      "365    NaN\n",
      "507    NaN\n",
      "1090   NaN\n",
      "1245   NaN\n",
      "1292   NaN\n",
      "        ..\n",
      "9059   NaN\n",
      "9188   NaN\n",
      "9472   NaN\n",
      "9482   NaN\n",
      "9541   NaN\n",
      "Name: rating_ratio, Length: 95, dtype: float64\n"
     ]
    }
   ],
   "source": [
    "\n",
    "# Display rows with negative discount_price\n",
    "negative_discounts = df_cleaned[df_cleaned['discount_price'] < 0]\n",
    "print(\"Negative discount_price rows:\")\n",
    "print(negative_discounts)\n",
    "\n",
    "# Display rows with negative actual_price\n",
    "negative_actuals = df_cleaned[df_cleaned['actual_price'] < 0]\n",
    "print(\"Negative actual_price rows:\")\n",
    "print(negative_actuals)\n",
    "\n",
    "# Check for non-numeric values in the relevant columns\n",
    "for col in ['discount_price', 'actual_price', 'ratings', 'no_of_ratings',\n",
    "            'discount_percentage', 'name_length', 'price_difference',\n",
    "            'rating_ratio', 'log_actual_price']:\n",
    "    non_numeric = df_cleaned[col][pd.to_numeric(df_cleaned[col], errors='coerce').isnull()]\n",
    "    if not non_numeric.empty:\n",
    "        print(f\"Non-numeric values found in column '{col}':\")\n",
    "        print(non_numeric)"
   ]
  },
  {
   "cell_type": "code",
   "execution_count": 14,
   "metadata": {},
   "outputs": [
    {
     "data": {
      "text/plain": [
       "(9600, 14)"
      ]
     },
     "execution_count": 14,
     "metadata": {},
     "output_type": "execute_result"
    }
   ],
   "source": [
    "\n",
    "for col in ['discount_price', 'actual_price', 'ratings', 'no_of_ratings',\n",
    "            'discount_percentage', 'name_length', 'price_difference',\n",
    "            'rating_ratio', 'log_actual_price']:\n",
    "    df_cleaned[col] = pd.to_numeric(df_cleaned[col], errors='coerce')  # Convert non-numeric to NaN\n",
    "\n",
    "# Impute NaN values (you can choose a different strategy if needed)\n",
    "from sklearn.impute import SimpleImputer\n",
    "imputer = SimpleImputer(strategy='mean')\n",
    "df_cleaned[['discount_price', 'actual_price', 'ratings', 'no_of_ratings',\n",
    "             'discount_percentage', 'name_length', 'price_difference',\n",
    "             'rating_ratio', 'log_actual_price']] = imputer.fit_transform(\n",
    "    df_cleaned[['discount_price', 'actual_price', 'ratings', 'no_of_ratings',\n",
    "                 'discount_percentage', 'name_length', 'price_difference',\n",
    "                 'rating_ratio', 'log_actual_price']])\n",
    "\n",
    "df_cleaned.shape"
   ]
  },
  {
   "cell_type": "code",
   "execution_count": 15,
   "metadata": {},
   "outputs": [
    {
     "name": "stdout",
     "output_type": "stream",
     "text": [
      "Negative discount_price rows:\n",
      "Empty DataFrame\n",
      "Columns: [name, main_category, sub_category, image, link, ratings, no_of_ratings, discount_price, actual_price, name_length, price_difference, rating_ratio, log_actual_price, discount_percentage]\n",
      "Index: []\n",
      "Negative actual_price rows:\n",
      "Empty DataFrame\n",
      "Columns: [name, main_category, sub_category, image, link, ratings, no_of_ratings, discount_price, actual_price, name_length, price_difference, rating_ratio, log_actual_price, discount_percentage]\n",
      "Index: []\n"
     ]
    }
   ],
   "source": [
    "\n",
    "# Display rows with negative discount_price\n",
    "negative_discounts = df_cleaned[df_cleaned['discount_price'] < 0]\n",
    "print(\"Negative discount_price rows:\")\n",
    "print(negative_discounts)\n",
    "\n",
    "# Display rows with negative actual_price\n",
    "negative_actuals = df_cleaned[df_cleaned['actual_price'] < 0]\n",
    "print(\"Negative actual_price rows:\")\n",
    "print(negative_actuals)\n"
   ]
  },
  {
   "cell_type": "code",
   "execution_count": 16,
   "metadata": {},
   "outputs": [
    {
     "name": "stdout",
     "output_type": "stream",
     "text": [
      "[]\n"
     ]
    }
   ],
   "source": [
    "\n",
    "df_cleaned = pd.get_dummies(df_cleaned, columns=['main_category', 'sub_category'], drop_first=True)\n",
    "\n",
    "df_cleaned.shape\n",
    "\n",
    "# Get the actual dummy column names created by pd.get_dummies\n",
    "main_category_dummy_cols = [col for col in df_cleaned.columns if col.startswith('main_category_')]\n",
    "\n",
    "# Print the first two dummy column names for example\n",
    "print(main_category_dummy_cols[:2])\n"
   ]
  },
  {
   "cell_type": "code",
   "execution_count": null,
   "metadata": {},
   "outputs": [],
   "source": []
  },
  {
   "cell_type": "code",
   "execution_count": 17,
   "metadata": {},
   "outputs": [],
   "source": [
    "\n",
    "\n",
    "import pandas as pd\n",
    "import numpy as np\n",
    "import matplotlib.pyplot as plt\n",
    "import seaborn as sns\n",
    "from sklearn.model_selection import train_test_split\n",
    "from sklearn.linear_model import LinearRegression\n",
    "from sklearn.ensemble import RandomForestRegressor\n",
    "from sklearn.metrics import mean_squared_error, mean_absolute_error, r2_score\n"
   ]
  },
  {
   "cell_type": "code",
   "execution_count": null,
   "metadata": {},
   "outputs": [],
   "source": []
  },
  {
   "cell_type": "code",
   "execution_count": null,
   "metadata": {},
   "outputs": [],
   "source": []
  },
  {
   "cell_type": "code",
   "execution_count": 33,
   "metadata": {},
   "outputs": [
    {
     "name": "stdout",
     "output_type": "stream",
     "text": [
      "Model and transformer saved successfully!\n",
      "Root Mean Squared Error (RMSE): 0.6340970870987891\n"
     ]
    },
    {
     "name": "stderr",
     "output_type": "stream",
     "text": [
      "/var/folders/g4/qr7p9ccn37q6cd_dk1_90sn00000gn/T/ipykernel_3911/2562365633.py:21: SettingWithCopyWarning: \n",
      "A value is trying to be set on a copy of a slice from a DataFrame.\n",
      "Try using .loc[row_indexer,col_indexer] = value instead\n",
      "\n",
      "See the caveats in the documentation: https://pandas.pydata.org/pandas-docs/stable/user_guide/indexing.html#returning-a-view-versus-a-copy\n",
      "  df['yeojohnson_discount'] = transformer.fit_transform(df[['discount_price']])\n",
      "/Library/Frameworks/Python.framework/Versions/3.12/lib/python3.12/site-packages/sklearn/base.py:493: UserWarning: X does not have valid feature names, but PowerTransformer was fitted with feature names\n",
      "  warnings.warn(\n"
     ]
    }
   ],
   "source": [
    "import pandas as pd\n",
    "import numpy as np\n",
    "from sklearn.model_selection import train_test_split\n",
    "from sklearn.preprocessing import PowerTransformer\n",
    "from sklearn.metrics import mean_squared_error\n",
    "import xgboost as xgb\n",
    "import joblib\n",
    "\n",
    "\n",
    "\n",
    "# Function to preprocess the data\n",
    "def preprocess_data(df):\n",
    "    # Remove outliers using IQR method for the discount price\n",
    "    Q1 = df['discount_price'].quantile(0.25)\n",
    "    Q3 = df['discount_price'].quantile(0.75)\n",
    "    IQR = Q3 - Q1\n",
    "    df = df[(df['discount_price'] >= (Q1 - 1.5 * IQR)) & (df['discount_price'] <= (Q3 + 1.5 * IQR))]\n",
    "\n",
    "    # Yeo-Johnson Transformation for the target variable (discount price)\n",
    "    transformer = PowerTransformer(method='yeo-johnson')\n",
    "    df['yeojohnson_discount'] = transformer.fit_transform(df[['discount_price']])\n",
    "\n",
    "    return df, transformer\n",
    "\n",
    "# Preprocess the dataset and get the transformer\n",
    "df_cleaned, transformer = preprocess_data(df_cleaned)\n",
    "\n",
    "# Define features and target variable\n",
    "features = ['ratings', 'no_of_ratings', 'actual_price', \n",
    "        'rating_ratio', 'log_actual_price']\n",
    "X = df_cleaned[features]\n",
    "y = df_cleaned['yeojohnson_discount']  # Using transformed discount price as the target\n",
    "\n",
    "# Split the dataset into training and testing sets\n",
    "X_train, X_test, y_train, y_test = train_test_split(X, y, test_size=0.2, random_state=42)\n",
    "\n",
    "# Train the XGBoost model\n",
    "model = xgb.XGBRegressor(random_state=42)\n",
    "model.fit(X_train, y_train)\n",
    "\n",
    "# Save the model and the transformer for later use\n",
    "joblib.dump(model, 'xgboost_model.pkl')\n",
    "joblib.dump(transformer, 'yeo_johnson_transformer.pkl')\n",
    "\n",
    "print(\"Model and transformer saved successfully!\")\n",
    "\n",
    "# Function to make predictions and inverse transform the output\n",
    "def predict_and_inverse_transform(features):\n",
    "    # Load the model and transformer\n",
    "    model = joblib.load('xgboost_model.pkl')\n",
    "    transformer = joblib.load('yeo_johnson_transformer.pkl')\n",
    "\n",
    "    # Make predictions\n",
    "    predictions = model.predict(features)\n",
    "\n",
    "    # Inverse transform the predictions to get original discount price\n",
    "    original_predictions = transformer.inverse_transform(predictions.reshape(-1, 1))\n",
    "\n",
    "    return original_predictions.flatten()\n",
    "\n",
    "# Calculate RMSE on the test set\n",
    "test_predictions = model.predict(X_test)\n",
    "rmse = np.sqrt(mean_squared_error(y_test, test_predictions))\n",
    "\n",
    "# Inverse transform the test predictions for interpretation\n",
    "original_test_predictions = transformer.inverse_transform(test_predictions.reshape(-1, 1)).flatten()\n",
    "\n",
    "print(f\"Root Mean Squared Error (RMSE): {rmse}\")\n"
   ]
  },
  {
   "cell_type": "code",
   "execution_count": 29,
   "metadata": {},
   "outputs": [],
   "source": [
    "df_cleaned.to_csv('your_data.csv', index=False)\n"
   ]
  },
  {
   "cell_type": "code",
   "execution_count": 34,
   "metadata": {},
   "outputs": [
    {
     "name": "stderr",
     "output_type": "stream",
     "text": [
      "/var/folders/g4/qr7p9ccn37q6cd_dk1_90sn00000gn/T/ipykernel_3911/2828689866.py:20: SettingWithCopyWarning: \n",
      "A value is trying to be set on a copy of a slice from a DataFrame.\n",
      "Try using .loc[row_indexer,col_indexer] = value instead\n",
      "\n",
      "See the caveats in the documentation: https://pandas.pydata.org/pandas-docs/stable/user_guide/indexing.html#returning-a-view-versus-a-copy\n",
      "  df['yeojohnson_discount'] = transformer.fit_transform(df[['discount_price']])\n"
     ]
    },
    {
     "name": "stdout",
     "output_type": "stream",
     "text": [
      "Model and transformer saved successfully!\n",
      "Root Mean Squared Error (RMSE): 0.6143130286609501\n"
     ]
    },
    {
     "name": "stderr",
     "output_type": "stream",
     "text": [
      "/Library/Frameworks/Python.framework/Versions/3.12/lib/python3.12/site-packages/sklearn/base.py:493: UserWarning: X does not have valid feature names, but PowerTransformer was fitted with feature names\n",
      "  warnings.warn(\n"
     ]
    }
   ],
   "source": [
    "import pandas as pd\n",
    "import numpy as np\n",
    "from sklearn.ensemble import RandomForestRegressor\n",
    "from sklearn.model_selection import train_test_split\n",
    "from sklearn.preprocessing import PowerTransformer\n",
    "from sklearn.metrics import mean_squared_error\n",
    "import joblib\n",
    "\n",
    "\n",
    "# Function to preprocess the data\n",
    "def preprocess_data(df):\n",
    "    # Remove outliers using IQR method for the discount price\n",
    "    Q1 = df['discount_price'].quantile(0.25)\n",
    "    Q3 = df['discount_price'].quantile(0.75)\n",
    "    IQR = Q3 - Q1\n",
    "    df = df[(df['discount_price'] >= (Q1 - 1.5 * IQR)) & (df['discount_price'] <= (Q3 + 1.5 * IQR))]\n",
    "\n",
    "    # Yeo-Johnson Transformation for the target variable (discount price)\n",
    "    transformer = PowerTransformer(method='yeo-johnson')\n",
    "    df['yeojohnson_discount'] = transformer.fit_transform(df[['discount_price']])\n",
    "\n",
    "    return df, transformer\n",
    "\n",
    "# Preprocess the dataset and get the transformer\n",
    "df_cleaned, transformer = preprocess_data(df_cleaned)\n",
    "\n",
    "# Define features and target variable\n",
    "features = ['ratings', 'no_of_ratings', 'actual_price'\n",
    "            , 'rating_ratio', 'log_actual_price']\n",
    "X = df_cleaned[features]\n",
    "y = df_cleaned['yeojohnson_discount']  # Using transformed discount price as the target\n",
    "\n",
    "# Split the dataset into training and testing sets\n",
    "X_train, X_test, y_train, y_test = train_test_split(X, y, test_size=0.2, random_state=42)\n",
    "\n",
    "# Train the Random Forest model\n",
    "model = RandomForestRegressor(random_state=42)\n",
    "model.fit(X_train, y_train)\n",
    "\n",
    "# Save the model and the transformer for later use\n",
    "joblib.dump(model, 'random_forest_model.pkl')\n",
    "joblib.dump(transformer, 'yeo_johnson_transformer.pkl')\n",
    "\n",
    "print(\"Model and transformer saved successfully!\")\n",
    "\n",
    "# Function to make predictions and inverse transform the output\n",
    "def predict_and_inverse_transform(features):\n",
    "    # Load the model and transformer\n",
    "    model = joblib.load('random_forest_model.pkl')\n",
    "    transformer = joblib.load('yeo_johnson_transformer.pkl')\n",
    "\n",
    "    # Make predictions\n",
    "    predictions = model.predict(features)\n",
    "\n",
    "    # Inverse transform the predictions to get original discount price\n",
    "    original_predictions = transformer.inverse_transform(predictions.reshape(-1, 1))\n",
    "\n",
    "    return original_predictions.flatten()\n",
    "\n",
    "# Calculate RMSE on the test set\n",
    "test_predictions = model.predict(X_test)\n",
    "rmse = np.sqrt(mean_squared_error(y_test, test_predictions))\n",
    "\n",
    "# Inverse transform the test predictions for interpretation\n",
    "original_test_predictions = transformer.inverse_transform(test_predictions.reshape(-1, 1)).flatten()\n",
    "\n",
    "print(f\"Root Mean Squared Error (RMSE): {rmse}\")\n"
   ]
  }
 ],
 "metadata": {
  "kernelspec": {
   "display_name": "Python 3",
   "language": "python",
   "name": "python3"
  },
  "language_info": {
   "codemirror_mode": {
    "name": "ipython",
    "version": 3
   },
   "file_extension": ".py",
   "mimetype": "text/x-python",
   "name": "python",
   "nbconvert_exporter": "python",
   "pygments_lexer": "ipython3",
   "version": "3.12.2"
  }
 },
 "nbformat": 4,
 "nbformat_minor": 2
}
